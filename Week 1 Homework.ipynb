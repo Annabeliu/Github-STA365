{
 "cells": [
  {
   "cell_type": "markdown",
   "id": "e91bc355",
   "metadata": {},
   "source": [
    "# Week 1 Homework"
   ]
  },
  {
   "cell_type": "code",
   "execution_count": null,
   "id": "6c05cd9a",
   "metadata": {},
   "outputs": [],
   "source": [
    "from scipy import stats"
   ]
  },
  {
   "cell_type": "markdown",
   "id": "365394a9",
   "metadata": {},
   "source": [
    "Assume theta_a = 0.2, theta_b = 0.5, theta_c = 0.8"
   ]
  },
  {
   "cell_type": "code",
   "execution_count": 208,
   "id": "d82a3df0",
   "metadata": {},
   "outputs": [],
   "source": [
    "theta_r = [0.2, 0.5, 0.8]"
   ]
  },
  {
   "cell_type": "markdown",
   "id": "efc64368",
   "metadata": {},
   "source": [
    "I assume the initial distribution of all three theta to be Beta(1,1)."
   ]
  },
  {
   "cell_type": "code",
   "execution_count": 209,
   "id": "bf6b94ec",
   "metadata": {},
   "outputs": [],
   "source": [
    "trials = [0, 0, 0]  # Number of times we tried\n",
    "wins = [0, 0, 0]  # Number of wins\n",
    "n = 1000\n",
    "\n",
    "for step in range(1, n+1):\n",
    "    priors = [stats.beta(a=1+w, b=1+t-w) for t, w in zip(trials, wins)]\n",
    "    theta = [d.rvs(1) for d in priors]\n",
    "    chosen = np.argmax(theta) # return the index for maximum\n",
    "    x = stats.bernoulli(p = theta_r[chosen]).rvs(1)\n",
    "    trials[chosen] += 1\n",
    "    wins[chosen] += x[0]\n"
   ]
  },
  {
   "cell_type": "code",
   "execution_count": 210,
   "id": "396e0457",
   "metadata": {},
   "outputs": [
    {
     "data": {
      "text/plain": [
       "[0.2222222222222222, 0.47058823529411764, 0.8203285420944558]"
      ]
     },
     "execution_count": 210,
     "metadata": {},
     "output_type": "execute_result"
    }
   ],
   "source": [
    "prob = [0,0,0]\n",
    "for i in range(0,3):\n",
    "    prob[i] = wins[i]/trials[i]\n",
    "prob"
   ]
  },
  {
   "cell_type": "code",
   "execution_count": 211,
   "id": "c907c10b",
   "metadata": {},
   "outputs": [
    {
     "name": "stdout",
     "output_type": "stream",
     "text": [
      "Trails distribution:[9, 17, 974]\n",
      "Wins distribution:[2, 8, 799]\n",
      "Probability of winning:[0.22, 0.47, 0.82]\n"
     ]
    }
   ],
   "source": [
    "print(f'Trails distribution:{trials}\\n'\n",
    "     f'Wins distribution:{wins}\\n'\n",
    "     f'Probability of winning:{[round(p, 2) for p in prob ]}')"
   ]
  },
  {
   "cell_type": "code",
   "execution_count": 212,
   "id": "d95bc4ab",
   "metadata": {},
   "outputs": [
    {
     "name": "stdout",
     "output_type": "stream",
     "text": [
      "I will exploit the game 3 due to its highest probability\n"
     ]
    }
   ],
   "source": [
    "print(f'I will exploit the game {np.argmax(prob) + 1} due to its highest probability')"
   ]
  },
  {
   "cell_type": "code",
   "execution_count": null,
   "id": "2d3f2c26",
   "metadata": {},
   "outputs": [],
   "source": []
  }
 ],
 "metadata": {
  "kernelspec": {
   "display_name": "Python 3 (ipykernel)",
   "language": "python",
   "name": "python3"
  },
  "language_info": {
   "codemirror_mode": {
    "name": "ipython",
    "version": 3
   },
   "file_extension": ".py",
   "mimetype": "text/x-python",
   "name": "python",
   "nbconvert_exporter": "python",
   "pygments_lexer": "ipython3",
   "version": "3.11.6"
  }
 },
 "nbformat": 4,
 "nbformat_minor": 5
}
