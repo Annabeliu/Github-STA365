{
 "cells": [
  {
   "cell_type": "markdown",
   "id": "22f9b011",
   "metadata": {},
   "source": [
    "# Week 1 Homework"
   ]
  },
  {
   "cell_type": "code",
   "execution_count": null,
   "id": "ec1c1b17",
   "metadata": {},
   "outputs": [],
   "source": [
    "from scipy import stats"
   ]
  },
  {
   "cell_type": "markdown",
   "id": "365a06eb",
   "metadata": {},
   "source": [
    "I assume the initial distribution of all three theta to be Beta(1,1)."
   ]
  },
  {
   "cell_type": "code",
   "execution_count": 197,
   "id": "f6d7c924",
   "metadata": {},
   "outputs": [],
   "source": [
    "trials = [0, 0, 0]  # Number of times we tried\n",
    "wins = [0, 0, 0]  # Number of wins\n",
    "n = 1000\n",
    "\n",
    "for step in range(1, n+1):\n",
    "    priors = [stats.beta(a=1+w, b=1+t-w) for t, w in zip(trials, wins)]\n",
    "    theta = [d.rvs(1) for d in priors]\n",
    "    chosen = np.argmax(theta) # return the index for maximum\n",
    "    x = stats.bernoulli(p = theta[chosen]).rvs(1)\n",
    "    trials[chosen] += 1\n",
    "    wins[chosen] += x[0]\n"
   ]
  },
  {
   "cell_type": "code",
   "execution_count": 198,
   "id": "62baee9f",
   "metadata": {},
   "outputs": [
    {
     "data": {
      "text/plain": [
       "[0.6666666666666666, 0.9926778242677824, 0.926829268292683]"
      ]
     },
     "execution_count": 198,
     "metadata": {},
     "output_type": "execute_result"
    }
   ],
   "source": [
    "prob = [0,0,0]\n",
    "for i in range(0,3):\n",
    "    prob[i] = wins[i]/trials[i]\n",
    "prob"
   ]
  },
  {
   "cell_type": "code",
   "execution_count": 199,
   "id": "b5171526",
   "metadata": {},
   "outputs": [
    {
     "name": "stdout",
     "output_type": "stream",
     "text": [
      "Trails distribution:[3, 956, 41]\n",
      "Wins distribution:[2, 949, 38]\n",
      "Probability of winning:[0.67, 0.99, 0.93]\n"
     ]
    }
   ],
   "source": [
    "print(f'Trails distribution:{trials}\\n'\n",
    "     f'Wins distribution:{wins}\\n'\n",
    "     f'Probability of winning:{[round(p, 2) for p in prob ]}')"
   ]
  },
  {
   "cell_type": "code",
   "execution_count": 200,
   "id": "c3409ffa",
   "metadata": {},
   "outputs": [
    {
     "name": "stdout",
     "output_type": "stream",
     "text": [
      "I will exploit the 2 one due to its highest probability\n"
     ]
    }
   ],
   "source": [
    "print(f'I will exploit the game {np.argmax(prob) + 1} due to its highest probability')"
   ]
  },
  {
   "cell_type": "code",
   "execution_count": null,
   "id": "386fbb22",
   "metadata": {},
   "outputs": [],
   "source": []
  }
 ],
 "metadata": {
  "kernelspec": {
   "display_name": "Python 3 (ipykernel)",
   "language": "python",
   "name": "python3"
  },
  "language_info": {
   "codemirror_mode": {
    "name": "ipython",
    "version": 3
   },
   "file_extension": ".py",
   "mimetype": "text/x-python",
   "name": "python",
   "nbconvert_exporter": "python",
   "pygments_lexer": "ipython3",
   "version": "3.11.6"
  }
 },
 "nbformat": 4,
 "nbformat_minor": 5
}
