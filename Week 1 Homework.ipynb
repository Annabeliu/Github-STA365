{
 "cells": [
  {
   "cell_type": "markdown",
   "id": "5fd00c12",
   "metadata": {},
   "source": [
    "# Week 1 Homework"
   ]
  },
  {
   "cell_type": "code",
   "execution_count": 8,
   "id": "f667ab2a",
   "metadata": {},
   "outputs": [],
   "source": [
    "from scipy import stats\n",
    "import numpy as np"
   ]
  },
  {
   "cell_type": "markdown",
   "id": "19dba042",
   "metadata": {},
   "source": [
    "Assume the true value of theta_1 = 0.2, theta_2 = 0.5, theta_3 = 0.8"
   ]
  },
  {
   "cell_type": "code",
   "execution_count": 9,
   "id": "dd616361",
   "metadata": {},
   "outputs": [],
   "source": [
    "theta_r = [0.2, 0.5, 0.8]"
   ]
  },
  {
   "cell_type": "markdown",
   "id": "b9aeb7e3",
   "metadata": {},
   "source": [
    "Then I set prior as a beta distribution with alpha=beta=1.\n",
    "\n",
    "Then I play the game for 100 times."
   ]
  },
  {
   "cell_type": "code",
   "execution_count": 14,
   "id": "c3b8a833",
   "metadata": {},
   "outputs": [],
   "source": [
    "trials = [0, 0, 0]  # Number of times we tried\n",
    "wins = [0, 0, 0]  # Number of wins\n",
    "n = 100\n",
    "\n",
    "for step in range(1, n+1):\n",
    "    priors = [stats.beta(a=1+w, b=1+t-w) for t, w in zip(trials, wins)]\n",
    "    theta = [d.rvs(1) for d in priors]\n",
    "    chosen = np.argmax(theta) # return the index for maximum\n",
    "    x = stats.bernoulli(p = theta_r[chosen]).rvs(1)\n",
    "    trials[chosen] += 1\n",
    "    wins[chosen] += x[0]\n"
   ]
  },
  {
   "cell_type": "code",
   "execution_count": 15,
   "id": "c133c71c",
   "metadata": {},
   "outputs": [],
   "source": [
    "prob = [0,0,0]\n",
    "for i in range(0,3):\n",
    "    prob[i] = wins[i]/trials[i]"
   ]
  },
  {
   "cell_type": "code",
   "execution_count": 16,
   "id": "c0ea67c3",
   "metadata": {},
   "outputs": [
    {
     "name": "stdout",
     "output_type": "stream",
     "text": [
      "The result of 100 rounds\n",
      "Number of Playtimes for Game 1, Game 2, Game 3:[4, 31, 65]\n",
      "Number of Wins for Game 1, Game 2, Game 3:[1, 20, 47]\n",
      "Estimated Probability of winning:[0.25, 0.65, 0.72]\n"
     ]
    }
   ],
   "source": [
    "print(f'The result of 100 rounds\\n'\n",
    "    f'Number of Playtimes for Game 1, Game 2, Game 3:{trials}\\n'\n",
    "     f'Number of Wins for Game 1, Game 2, Game 3:{wins}\\n'\n",
    "     f'Estimated Probability of winning:{[round(p, 2) for p in prob ]}')"
   ]
  },
  {
   "cell_type": "code",
   "execution_count": 17,
   "id": "db54eb8b",
   "metadata": {},
   "outputs": [
    {
     "name": "stdout",
     "output_type": "stream",
     "text": [
      "The result of 200 rounds\n",
      "Number of Playtimes for Game 1, Game 2, Game 3:[5, 46, 149]\n",
      "Number of Wins for Game 1, Game 2, Game 3:[1, 28, 111]\n",
      "Estimated Probability of winning:[0.2, 0.61, 0.74]\n"
     ]
    }
   ],
   "source": [
    "for step in range(1, n+1):\n",
    "    priors = [stats.beta(a=1+w, b=1+t-w) for t, w in zip(trials, wins)]\n",
    "    theta = [d.rvs(1) for d in priors]\n",
    "    chosen = np.argmax(theta) # return the index for maximum\n",
    "    x = stats.bernoulli(p = theta_r[chosen]).rvs(1)\n",
    "    trials[chosen] += 1\n",
    "    wins[chosen] += x[0]\n",
    "prob = [0,0,0]\n",
    "for i in range(0,3):\n",
    "    prob[i] = wins[i]/trials[i]\n",
    "print(f'The result of 200 rounds\\n'\n",
    "    f'Number of Playtimes for Game 1, Game 2, Game 3:{trials}\\n'\n",
    "     f'Number of Wins for Game 1, Game 2, Game 3:{wins}\\n'\n",
    "     f'Estimated Probability of winning:{[round(p, 2) for p in prob ]}')"
   ]
  },
  {
   "cell_type": "markdown",
   "id": "59c9bde3",
   "metadata": {},
   "source": [
    "We can see that the result become closer and closer to our estimated theta.(theta_1 = 0.2, theta_2 = 0.5, theta_3 = 0.8)"
   ]
  },
  {
   "cell_type": "code",
   "execution_count": 13,
   "id": "bdc51294",
   "metadata": {},
   "outputs": [
    {
     "name": "stdout",
     "output_type": "stream",
     "text": [
      "I will exploit the game 3 due to its highest probability\n"
     ]
    }
   ],
   "source": [
    "print(f'In other words {np.argmax(prob) + 1} have a highest probability of winning')"
   ]
  },
  {
   "cell_type": "markdown",
   "id": "3642589f",
   "metadata": {},
   "source": [
    "Thus, for the future games, I will exploit game 3."
   ]
  }
 ],
 "metadata": {
  "kernelspec": {
   "display_name": "Python 3 (ipykernel)",
   "language": "python",
   "name": "python3"
  },
  "language_info": {
   "codemirror_mode": {
    "name": "ipython",
    "version": 3
   },
   "file_extension": ".py",
   "mimetype": "text/x-python",
   "name": "python",
   "nbconvert_exporter": "python",
   "pygments_lexer": "ipython3",
   "version": "3.11.6"
  }
 },
 "nbformat": 4,
 "nbformat_minor": 5
}
