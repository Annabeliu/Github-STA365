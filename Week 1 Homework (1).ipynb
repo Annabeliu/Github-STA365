{
 "cells": [
  {
   "cell_type": "markdown",
   "id": "386b0d92",
   "metadata": {},
   "source": [
    "# Week 1 Homework"
   ]
  },
  {
   "cell_type": "code",
   "execution_count": 226,
   "id": "64e2481e",
   "metadata": {},
   "outputs": [],
   "source": [
    "from scipy import stats"
   ]
  },
  {
   "cell_type": "markdown",
   "id": "63dabfb0",
   "metadata": {},
   "source": [
    "Assume theta_1 = 0.2, theta_2 = 0.5, theta_3 = 0.8"
   ]
  },
  {
   "cell_type": "code",
   "execution_count": 227,
   "id": "34fee064",
   "metadata": {},
   "outputs": [],
   "source": [
    "theta_r = [0.2, 0.5, 0.8]"
   ]
  },
  {
   "cell_type": "markdown",
   "id": "3d4e3a06",
   "metadata": {},
   "source": [
    "I assume the initial distribution of all three theta to be Beta(1,1)."
   ]
  },
  {
   "cell_type": "code",
   "execution_count": 234,
   "id": "fbb3aceb",
   "metadata": {},
   "outputs": [],
   "source": [
    "trials = [0, 0, 0]  # Number of times we tried\n",
    "wins = [0, 0, 0]  # Number of wins\n",
    "n = 1000\n",
    "\n",
    "for step in range(1, n+1):\n",
    "    priors = [stats.beta(a=1+w, b=1+t-w) for t, w in zip(trials, wins)]\n",
    "    theta = [d.rvs(1) for d in priors]\n",
    "    chosen = np.argmax(theta) # return the index for maximum\n",
    "    x = stats.bernoulli(p = theta_r[chosen]).rvs(1)\n",
    "    trials[chosen] += 1\n",
    "    wins[chosen] += x[0]\n"
   ]
  },
  {
   "cell_type": "code",
   "execution_count": 235,
   "id": "0627aac9",
   "metadata": {},
   "outputs": [
    {
     "data": {
      "text/plain": [
       "[0.2857142857142857, 0.5789473684210527, 0.8100616016427105]"
      ]
     },
     "execution_count": 235,
     "metadata": {},
     "output_type": "execute_result"
    }
   ],
   "source": [
    "prob = [0,0,0]\n",
    "for i in range(0,3):\n",
    "    prob[i] = wins[i]/trials[i]\n",
    "prob"
   ]
  },
  {
   "cell_type": "code",
   "execution_count": 236,
   "id": "642d820f",
   "metadata": {},
   "outputs": [
    {
     "name": "stdout",
     "output_type": "stream",
     "text": [
      "Trails distribution:[7, 19, 974]\n",
      "Wins distribution:[2, 11, 789]\n",
      "Estimated Probability of winning:[0.29, 0.58, 0.81]\n"
     ]
    }
   ],
   "source": [
    "print(f'Trails distribution:{trials}\\n'\n",
    "     f'Wins distribution:{wins}\\n'\n",
    "     f'Estimated Probability of winning:{[round(p, 2) for p in prob ]}')"
   ]
  },
  {
   "cell_type": "code",
   "execution_count": 237,
   "id": "95e1945b",
   "metadata": {},
   "outputs": [
    {
     "name": "stdout",
     "output_type": "stream",
     "text": [
      "I will exploit the game 3 due to its highest probability\n"
     ]
    }
   ],
   "source": [
    "print(f'I will exploit the game {np.argmax(prob) + 1} due to its highest probability')"
   ]
  },
  {
   "cell_type": "code",
   "execution_count": null,
   "id": "004a8190",
   "metadata": {},
   "outputs": [],
   "source": []
  }
 ],
 "metadata": {
  "kernelspec": {
   "display_name": "Python 3 (ipykernel)",
   "language": "python",
   "name": "python3"
  },
  "language_info": {
   "codemirror_mode": {
    "name": "ipython",
    "version": 3
   },
   "file_extension": ".py",
   "mimetype": "text/x-python",
   "name": "python",
   "nbconvert_exporter": "python",
   "pygments_lexer": "ipython3",
   "version": "3.11.6"
  }
 },
 "nbformat": 4,
 "nbformat_minor": 5
}
